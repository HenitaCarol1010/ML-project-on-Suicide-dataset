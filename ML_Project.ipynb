{
  "nbformat": 4,
  "nbformat_minor": 0,
  "metadata": {
    "colab": {
      "name": "ML_Project.ipynb",
      "provenance": [],
      "collapsed_sections": []
    },
    "kernelspec": {
      "name": "python3",
      "display_name": "Python 3"
    },
    "language_info": {
      "name": "python"
    }
  },
  "cells": [
    {
      "cell_type": "markdown",
      "source": [
        "Import Libraries"
      ],
      "metadata": {
        "id": "LXNpVx8fQqFq"
      }
    },
    {
      "cell_type": "code",
      "execution_count": null,
      "metadata": {
        "id": "Bi8ZCRTtDkNS"
      },
      "outputs": [],
      "source": [
        "import numpy as np\n",
        "import matplotlib.pyplot as plt\n",
        "import seaborn as sns\n",
        "import pandas as pd"
      ]
    },
    {
      "cell_type": "markdown",
      "source": [
        "Import dataset"
      ],
      "metadata": {
        "id": "lrqvSzUWQt8E"
      }
    },
    {
      "cell_type": "code",
      "source": [
        "data=pd.read_csv('/content/Suicides in India 2001-2012.csv')\n",
        "data.shape"
      ],
      "metadata": {
        "id": "ccVU9ygrD4L2",
        "colab": {
          "base_uri": "https://localhost:8080/"
        },
        "outputId": "d3f9e8bc-705f-45e8-f45c-ec933ccbbee3"
      },
      "execution_count": null,
      "outputs": [
        {
          "output_type": "execute_result",
          "data": {
            "text/plain": [
              "(237519, 7)"
            ]
          },
          "metadata": {},
          "execution_count": 2
        }
      ]
    },
    {
      "cell_type": "code",
      "source": [
        "data.head()"
      ],
      "metadata": {
        "id": "blQIk4dyGRly",
        "colab": {
          "base_uri": "https://localhost:8080/",
          "height": 206
        },
        "outputId": "4c1c0233-2f54-469b-a142-781933a8b876"
      },
      "execution_count": null,
      "outputs": [
        {
          "output_type": "execute_result",
          "data": {
            "text/html": [
              "\n",
              "  <div id=\"df-2b58126d-3354-4390-9812-679449145bfd\">\n",
              "    <div class=\"colab-df-container\">\n",
              "      <div>\n",
              "<style scoped>\n",
              "    .dataframe tbody tr th:only-of-type {\n",
              "        vertical-align: middle;\n",
              "    }\n",
              "\n",
              "    .dataframe tbody tr th {\n",
              "        vertical-align: top;\n",
              "    }\n",
              "\n",
              "    .dataframe thead th {\n",
              "        text-align: right;\n",
              "    }\n",
              "</style>\n",
              "<table border=\"1\" class=\"dataframe\">\n",
              "  <thead>\n",
              "    <tr style=\"text-align: right;\">\n",
              "      <th></th>\n",
              "      <th>State</th>\n",
              "      <th>Year</th>\n",
              "      <th>Type_code</th>\n",
              "      <th>Type</th>\n",
              "      <th>Gender</th>\n",
              "      <th>Age_group</th>\n",
              "      <th>Total</th>\n",
              "    </tr>\n",
              "  </thead>\n",
              "  <tbody>\n",
              "    <tr>\n",
              "      <th>0</th>\n",
              "      <td>A &amp; N Islands</td>\n",
              "      <td>2001</td>\n",
              "      <td>Causes</td>\n",
              "      <td>Illness (Aids/STD)</td>\n",
              "      <td>Female</td>\n",
              "      <td>0-14</td>\n",
              "      <td>0</td>\n",
              "    </tr>\n",
              "    <tr>\n",
              "      <th>1</th>\n",
              "      <td>A &amp; N Islands</td>\n",
              "      <td>2001</td>\n",
              "      <td>Causes</td>\n",
              "      <td>Bankruptcy or Sudden change in Economic</td>\n",
              "      <td>Female</td>\n",
              "      <td>0-14</td>\n",
              "      <td>0</td>\n",
              "    </tr>\n",
              "    <tr>\n",
              "      <th>2</th>\n",
              "      <td>A &amp; N Islands</td>\n",
              "      <td>2001</td>\n",
              "      <td>Causes</td>\n",
              "      <td>Cancellation/Non-Settlement of Marriage</td>\n",
              "      <td>Female</td>\n",
              "      <td>0-14</td>\n",
              "      <td>0</td>\n",
              "    </tr>\n",
              "    <tr>\n",
              "      <th>3</th>\n",
              "      <td>A &amp; N Islands</td>\n",
              "      <td>2001</td>\n",
              "      <td>Causes</td>\n",
              "      <td>Physical Abuse (Rape/Incest Etc.)</td>\n",
              "      <td>Female</td>\n",
              "      <td>0-14</td>\n",
              "      <td>0</td>\n",
              "    </tr>\n",
              "    <tr>\n",
              "      <th>4</th>\n",
              "      <td>A &amp; N Islands</td>\n",
              "      <td>2001</td>\n",
              "      <td>Causes</td>\n",
              "      <td>Dowry Dispute</td>\n",
              "      <td>Female</td>\n",
              "      <td>0-14</td>\n",
              "      <td>0</td>\n",
              "    </tr>\n",
              "  </tbody>\n",
              "</table>\n",
              "</div>\n",
              "      <button class=\"colab-df-convert\" onclick=\"convertToInteractive('df-2b58126d-3354-4390-9812-679449145bfd')\"\n",
              "              title=\"Convert this dataframe to an interactive table.\"\n",
              "              style=\"display:none;\">\n",
              "        \n",
              "  <svg xmlns=\"http://www.w3.org/2000/svg\" height=\"24px\"viewBox=\"0 0 24 24\"\n",
              "       width=\"24px\">\n",
              "    <path d=\"M0 0h24v24H0V0z\" fill=\"none\"/>\n",
              "    <path d=\"M18.56 5.44l.94 2.06.94-2.06 2.06-.94-2.06-.94-.94-2.06-.94 2.06-2.06.94zm-11 1L8.5 8.5l.94-2.06 2.06-.94-2.06-.94L8.5 2.5l-.94 2.06-2.06.94zm10 10l.94 2.06.94-2.06 2.06-.94-2.06-.94-.94-2.06-.94 2.06-2.06.94z\"/><path d=\"M17.41 7.96l-1.37-1.37c-.4-.4-.92-.59-1.43-.59-.52 0-1.04.2-1.43.59L10.3 9.45l-7.72 7.72c-.78.78-.78 2.05 0 2.83L4 21.41c.39.39.9.59 1.41.59.51 0 1.02-.2 1.41-.59l7.78-7.78 2.81-2.81c.8-.78.8-2.07 0-2.86zM5.41 20L4 18.59l7.72-7.72 1.47 1.35L5.41 20z\"/>\n",
              "  </svg>\n",
              "      </button>\n",
              "      \n",
              "  <style>\n",
              "    .colab-df-container {\n",
              "      display:flex;\n",
              "      flex-wrap:wrap;\n",
              "      gap: 12px;\n",
              "    }\n",
              "\n",
              "    .colab-df-convert {\n",
              "      background-color: #E8F0FE;\n",
              "      border: none;\n",
              "      border-radius: 50%;\n",
              "      cursor: pointer;\n",
              "      display: none;\n",
              "      fill: #1967D2;\n",
              "      height: 32px;\n",
              "      padding: 0 0 0 0;\n",
              "      width: 32px;\n",
              "    }\n",
              "\n",
              "    .colab-df-convert:hover {\n",
              "      background-color: #E2EBFA;\n",
              "      box-shadow: 0px 1px 2px rgba(60, 64, 67, 0.3), 0px 1px 3px 1px rgba(60, 64, 67, 0.15);\n",
              "      fill: #174EA6;\n",
              "    }\n",
              "\n",
              "    [theme=dark] .colab-df-convert {\n",
              "      background-color: #3B4455;\n",
              "      fill: #D2E3FC;\n",
              "    }\n",
              "\n",
              "    [theme=dark] .colab-df-convert:hover {\n",
              "      background-color: #434B5C;\n",
              "      box-shadow: 0px 1px 3px 1px rgba(0, 0, 0, 0.15);\n",
              "      filter: drop-shadow(0px 1px 2px rgba(0, 0, 0, 0.3));\n",
              "      fill: #FFFFFF;\n",
              "    }\n",
              "  </style>\n",
              "\n",
              "      <script>\n",
              "        const buttonEl =\n",
              "          document.querySelector('#df-2b58126d-3354-4390-9812-679449145bfd button.colab-df-convert');\n",
              "        buttonEl.style.display =\n",
              "          google.colab.kernel.accessAllowed ? 'block' : 'none';\n",
              "\n",
              "        async function convertToInteractive(key) {\n",
              "          const element = document.querySelector('#df-2b58126d-3354-4390-9812-679449145bfd');\n",
              "          const dataTable =\n",
              "            await google.colab.kernel.invokeFunction('convertToInteractive',\n",
              "                                                     [key], {});\n",
              "          if (!dataTable) return;\n",
              "\n",
              "          const docLinkHtml = 'Like what you see? Visit the ' +\n",
              "            '<a target=\"_blank\" href=https://colab.research.google.com/notebooks/data_table.ipynb>data table notebook</a>'\n",
              "            + ' to learn more about interactive tables.';\n",
              "          element.innerHTML = '';\n",
              "          dataTable['output_type'] = 'display_data';\n",
              "          await google.colab.output.renderOutput(dataTable, element);\n",
              "          const docLink = document.createElement('div');\n",
              "          docLink.innerHTML = docLinkHtml;\n",
              "          element.appendChild(docLink);\n",
              "        }\n",
              "      </script>\n",
              "    </div>\n",
              "  </div>\n",
              "  "
            ],
            "text/plain": [
              "           State  Year Type_code  ...  Gender Age_group Total\n",
              "0  A & N Islands  2001    Causes  ...  Female      0-14     0\n",
              "1  A & N Islands  2001    Causes  ...  Female      0-14     0\n",
              "2  A & N Islands  2001    Causes  ...  Female      0-14     0\n",
              "3  A & N Islands  2001    Causes  ...  Female      0-14     0\n",
              "4  A & N Islands  2001    Causes  ...  Female      0-14     0\n",
              "\n",
              "[5 rows x 7 columns]"
            ]
          },
          "metadata": {},
          "execution_count": 3
        }
      ]
    },
    {
      "cell_type": "code",
      "source": [
        "data.fillna(999, inplace=True)\n",
        "data.info()"
      ],
      "metadata": {
        "id": "6oNsRI7MGZLu",
        "colab": {
          "base_uri": "https://localhost:8080/"
        },
        "outputId": "bfaffbd2-743f-4235-b656-92c076a5f474"
      },
      "execution_count": null,
      "outputs": [
        {
          "output_type": "stream",
          "name": "stdout",
          "text": [
            "<class 'pandas.core.frame.DataFrame'>\n",
            "RangeIndex: 237519 entries, 0 to 237518\n",
            "Data columns (total 7 columns):\n",
            " #   Column     Non-Null Count   Dtype\n",
            "---  ------     --------------   -----\n",
            " 0   State      237519 non-null  int64\n",
            " 1   Year       237519 non-null  int64\n",
            " 2   Type_code  237519 non-null  int64\n",
            " 3   Type       237519 non-null  int64\n",
            " 4   Gender     237519 non-null  int64\n",
            " 5   Age_group  237519 non-null  int64\n",
            " 6   Total      237519 non-null  int64\n",
            "dtypes: int64(7)\n",
            "memory usage: 12.7 MB\n"
          ]
        }
      ]
    },
    {
      "cell_type": "code",
      "source": [
        "data.describe()"
      ],
      "metadata": {
        "id": "LG9Ki6SIGtzp",
        "colab": {
          "base_uri": "https://localhost:8080/",
          "height": 300
        },
        "outputId": "0db17342-5c8f-4d17-ceb1-7974e40d0024"
      },
      "execution_count": null,
      "outputs": [
        {
          "output_type": "execute_result",
          "data": {
            "text/html": [
              "\n",
              "  <div id=\"df-b418eef5-7fd8-48e2-9550-0f074946c612\">\n",
              "    <div class=\"colab-df-container\">\n",
              "      <div>\n",
              "<style scoped>\n",
              "    .dataframe tbody tr th:only-of-type {\n",
              "        vertical-align: middle;\n",
              "    }\n",
              "\n",
              "    .dataframe tbody tr th {\n",
              "        vertical-align: top;\n",
              "    }\n",
              "\n",
              "    .dataframe thead th {\n",
              "        text-align: right;\n",
              "    }\n",
              "</style>\n",
              "<table border=\"1\" class=\"dataframe\">\n",
              "  <thead>\n",
              "    <tr style=\"text-align: right;\">\n",
              "      <th></th>\n",
              "      <th>Year</th>\n",
              "      <th>Total</th>\n",
              "    </tr>\n",
              "  </thead>\n",
              "  <tbody>\n",
              "    <tr>\n",
              "      <th>count</th>\n",
              "      <td>237519.000000</td>\n",
              "      <td>237519.000000</td>\n",
              "    </tr>\n",
              "    <tr>\n",
              "      <th>mean</th>\n",
              "      <td>2006.500448</td>\n",
              "      <td>55.034477</td>\n",
              "    </tr>\n",
              "    <tr>\n",
              "      <th>std</th>\n",
              "      <td>3.452240</td>\n",
              "      <td>792.749038</td>\n",
              "    </tr>\n",
              "    <tr>\n",
              "      <th>min</th>\n",
              "      <td>2001.000000</td>\n",
              "      <td>0.000000</td>\n",
              "    </tr>\n",
              "    <tr>\n",
              "      <th>25%</th>\n",
              "      <td>2004.000000</td>\n",
              "      <td>0.000000</td>\n",
              "    </tr>\n",
              "    <tr>\n",
              "      <th>50%</th>\n",
              "      <td>2007.000000</td>\n",
              "      <td>0.000000</td>\n",
              "    </tr>\n",
              "    <tr>\n",
              "      <th>75%</th>\n",
              "      <td>2010.000000</td>\n",
              "      <td>6.000000</td>\n",
              "    </tr>\n",
              "    <tr>\n",
              "      <th>max</th>\n",
              "      <td>2012.000000</td>\n",
              "      <td>63343.000000</td>\n",
              "    </tr>\n",
              "  </tbody>\n",
              "</table>\n",
              "</div>\n",
              "      <button class=\"colab-df-convert\" onclick=\"convertToInteractive('df-b418eef5-7fd8-48e2-9550-0f074946c612')\"\n",
              "              title=\"Convert this dataframe to an interactive table.\"\n",
              "              style=\"display:none;\">\n",
              "        \n",
              "  <svg xmlns=\"http://www.w3.org/2000/svg\" height=\"24px\"viewBox=\"0 0 24 24\"\n",
              "       width=\"24px\">\n",
              "    <path d=\"M0 0h24v24H0V0z\" fill=\"none\"/>\n",
              "    <path d=\"M18.56 5.44l.94 2.06.94-2.06 2.06-.94-2.06-.94-.94-2.06-.94 2.06-2.06.94zm-11 1L8.5 8.5l.94-2.06 2.06-.94-2.06-.94L8.5 2.5l-.94 2.06-2.06.94zm10 10l.94 2.06.94-2.06 2.06-.94-2.06-.94-.94-2.06-.94 2.06-2.06.94z\"/><path d=\"M17.41 7.96l-1.37-1.37c-.4-.4-.92-.59-1.43-.59-.52 0-1.04.2-1.43.59L10.3 9.45l-7.72 7.72c-.78.78-.78 2.05 0 2.83L4 21.41c.39.39.9.59 1.41.59.51 0 1.02-.2 1.41-.59l7.78-7.78 2.81-2.81c.8-.78.8-2.07 0-2.86zM5.41 20L4 18.59l7.72-7.72 1.47 1.35L5.41 20z\"/>\n",
              "  </svg>\n",
              "      </button>\n",
              "      \n",
              "  <style>\n",
              "    .colab-df-container {\n",
              "      display:flex;\n",
              "      flex-wrap:wrap;\n",
              "      gap: 12px;\n",
              "    }\n",
              "\n",
              "    .colab-df-convert {\n",
              "      background-color: #E8F0FE;\n",
              "      border: none;\n",
              "      border-radius: 50%;\n",
              "      cursor: pointer;\n",
              "      display: none;\n",
              "      fill: #1967D2;\n",
              "      height: 32px;\n",
              "      padding: 0 0 0 0;\n",
              "      width: 32px;\n",
              "    }\n",
              "\n",
              "    .colab-df-convert:hover {\n",
              "      background-color: #E2EBFA;\n",
              "      box-shadow: 0px 1px 2px rgba(60, 64, 67, 0.3), 0px 1px 3px 1px rgba(60, 64, 67, 0.15);\n",
              "      fill: #174EA6;\n",
              "    }\n",
              "\n",
              "    [theme=dark] .colab-df-convert {\n",
              "      background-color: #3B4455;\n",
              "      fill: #D2E3FC;\n",
              "    }\n",
              "\n",
              "    [theme=dark] .colab-df-convert:hover {\n",
              "      background-color: #434B5C;\n",
              "      box-shadow: 0px 1px 3px 1px rgba(0, 0, 0, 0.15);\n",
              "      filter: drop-shadow(0px 1px 2px rgba(0, 0, 0, 0.3));\n",
              "      fill: #FFFFFF;\n",
              "    }\n",
              "  </style>\n",
              "\n",
              "      <script>\n",
              "        const buttonEl =\n",
              "          document.querySelector('#df-b418eef5-7fd8-48e2-9550-0f074946c612 button.colab-df-convert');\n",
              "        buttonEl.style.display =\n",
              "          google.colab.kernel.accessAllowed ? 'block' : 'none';\n",
              "\n",
              "        async function convertToInteractive(key) {\n",
              "          const element = document.querySelector('#df-b418eef5-7fd8-48e2-9550-0f074946c612');\n",
              "          const dataTable =\n",
              "            await google.colab.kernel.invokeFunction('convertToInteractive',\n",
              "                                                     [key], {});\n",
              "          if (!dataTable) return;\n",
              "\n",
              "          const docLinkHtml = 'Like what you see? Visit the ' +\n",
              "            '<a target=\"_blank\" href=https://colab.research.google.com/notebooks/data_table.ipynb>data table notebook</a>'\n",
              "            + ' to learn more about interactive tables.';\n",
              "          element.innerHTML = '';\n",
              "          dataTable['output_type'] = 'display_data';\n",
              "          await google.colab.output.renderOutput(dataTable, element);\n",
              "          const docLink = document.createElement('div');\n",
              "          docLink.innerHTML = docLinkHtml;\n",
              "          element.appendChild(docLink);\n",
              "        }\n",
              "      </script>\n",
              "    </div>\n",
              "  </div>\n",
              "  "
            ],
            "text/plain": [
              "                Year          Total\n",
              "count  237519.000000  237519.000000\n",
              "mean     2006.500448      55.034477\n",
              "std         3.452240     792.749038\n",
              "min      2001.000000       0.000000\n",
              "25%      2004.000000       0.000000\n",
              "50%      2007.000000       0.000000\n",
              "75%      2010.000000       6.000000\n",
              "max      2012.000000   63343.000000"
            ]
          },
          "metadata": {},
          "execution_count": 5
        }
      ]
    },
    {
      "cell_type": "code",
      "source": [
        "data1 = data.groupby('Year')\n",
        "plt.figure(figsize=(8,6))\n",
        "ap = sns.lineplot(data = data1.mean()['Total'], markers= True,color = \"red\")\n",
        "plt.xlabel('Year')\n",
        "plt.ylabel('Suicide Count')\n",
        "plt.grid()\n",
        "plt.show()"
      ],
      "metadata": {
        "id": "3h4pRBBnG8lv",
        "colab": {
          "base_uri": "https://localhost:8080/",
          "height": 388
        },
        "outputId": "fb50c924-2a9d-4841-acff-d4258fff2cd8"
      },
      "execution_count": null,
      "outputs": [
        {
          "output_type": "display_data",
          "data": {
            "image/png": "[encoded data removed]",
            "text/plain": [
              "<Figure size 576x432 with 1 Axes>"
            ]
          },
          "metadata": {
            "needs_background": "light"
          }
        }
      ]
    },
    {
      "cell_type": "code",
      "source": [
        "age_group = data[data.Age_group != '0-100+']\n",
        "age_group= pd.DataFrame(age_group.groupby(['Age_group'])['Total'].sum().reset_index())\n",
        "age_group.sort_values(by = ['Total'], ascending = False, inplace = True)\n",
        "plt.figure(figsize=(8,6))\n",
        "sns.barplot(age_group['Age_group'], y = age_group['Total'], data = age_group, palette = 'Set1')\n",
        "plt.title('No of suicides with respect to age group', fontsize = 20)\n",
        "plt.xlabel('age groups')\n",
        "plt.ylabel('suicide_count')\n",
        "plt.show()"
      ],
      "metadata": {
        "id": "y76F3vFHHDfM",
        "colab": {
          "base_uri": "https://localhost:8080/",
          "height": 464
        },
        "outputId": "7896f998-797e-4982-99aa-7e8b646334be"
      },
      "execution_count": null,
      "outputs": [
        {
          "output_type": "stream",
          "name": "stderr",
          "text": [
            "/usr/local/lib/python3.7/dist-packages/seaborn/_decorators.py:43: FutureWarning: Pass the following variable as a keyword arg: x. From version 0.12, the only valid positional argument will be `data`, and passing other arguments without an explicit keyword will result in an error or misinterpretation.\n",
            "  FutureWarning\n"
          ]
        },
        {
          "output_type": "display_data",
          "data": {
            "image/png": "[encoded data removed]",
            "text/plain": [
              "<Figure size 576x432 with 1 Axes>"
            ]
          },
          "metadata": {
            "needs_background": "light"
          }
        }
      ]
    },
    {
      "cell_type": "code",
      "source": [
        "df_state = pd.DataFrame(data.groupby(['State'])['Total'].sum().reset_index())\n",
        "df_state.sort_values(by = ['Total'], ascending = True, inplace = True)\n",
        "sns.barplot(df_state['State'].head(10), y = df_state['Total'].head(10), data = df_state, palette = \"YlGnBu\")\n",
        "plt.title('States with their suicide rate', fontsize = 20)\n",
        "plt.xlabel('Name of State')\n",
        "plt.xticks(rotation = 90)\n",
        "plt.ylabel('Count')\n",
        "plt.show()"
      ],
      "metadata": {
        "id": "giX6W2_nAOTk",
        "colab": {
          "base_uri": "https://localhost:8080/",
          "height": 438
        },
        "outputId": "8415858e-cf71-4cbd-9d52-43fba303bcfe"
      },
      "execution_count": null,
      "outputs": [
        {
          "output_type": "stream",
          "name": "stderr",
          "text": [
            "/usr/local/lib/python3.7/dist-packages/seaborn/_decorators.py:43: FutureWarning: Pass the following variable as a keyword arg: x. From version 0.12, the only valid positional argument will be `data`, and passing other arguments without an explicit keyword will result in an error or misinterpretation.\n",
            "  FutureWarning\n"
          ]
        },
        {
          "output_type": "display_data",
          "data": {
            "image/png": "[encoded data removed]",
            "text/plain": [
              "<Figure size 432x288 with 1 Axes>"
            ]
          },
          "metadata": {
            "needs_background": "light"
          }
        }
      ]
    },
    {
      "cell_type": "code",
      "source": [
        "df_Gender = pd.DataFrame(data.groupby(['Gender'])['Total'].sum().reset_index())\n",
        "df_Gender.sort_values(by = ['Total'], ascending = True, inplace = True)\n",
        "sns.barplot(df_Gender['Gender'], y = df_Gender['Total'], data = df_Gender, palette = \"YlGnBu\")\n",
        "plt.title('Gender with their suicide rate', fontsize = 20)\n",
        "plt.xlabel('Gender')\n",
        "plt.ylabel('Count')\n",
        "plt.show()"
      ],
      "metadata": {
        "id": "dYa-1ySI-lre",
        "colab": {
          "base_uri": "https://localhost:8080/",
          "height": 354
        },
        "outputId": "474eff5b-46b3-4128-86cb-f0b653ad9e72"
      },
      "execution_count": null,
      "outputs": [
        {
          "output_type": "stream",
          "name": "stderr",
          "text": [
            "/usr/local/lib/python3.7/dist-packages/seaborn/_decorators.py:43: FutureWarning: Pass the following variable as a keyword arg: x. From version 0.12, the only valid positional argument will be `data`, and passing other arguments without an explicit keyword will result in an error or misinterpretation.\n",
            "  FutureWarning\n"
          ]
        },
        {
          "output_type": "display_data",
          "data": {
            "image/png": "[encoded data removed]",
            "text/plain": [
              "<Figure size 432x288 with 1 Axes>"
            ]
          },
          "metadata": {
            "needs_background": "light"
          }
        }
      ]
    },
    {
      "cell_type": "code",
      "source": [
        "df_education = data[data.Type_code == 'Education_Status']"
      ],
      "metadata": {
        "id": "8h6qFoUpPpHR"
      },
      "execution_count": null,
      "outputs": []
    },
    {
      "cell_type": "code",
      "source": [
        "df_education"
      ],
      "metadata": {
        "id": "nb9WtxBNPzm4",
        "colab": {
          "base_uri": "https://localhost:8080/",
          "height": 423
        },
        "outputId": "5c9dec19-97e3-421f-d7a4-f41863897d9d"
      },
      "execution_count": null,
      "outputs": [
        {
          "output_type": "execute_result",
          "data": {
            "text/html": [
              "\n",
              "  <div id=\"df-144a06da-4913-4dc9-a801-60431b18bac0\">\n",
              "    <div class=\"colab-df-container\">\n",
              "      <div>\n",
              "<style scoped>\n",
              "    .dataframe tbody tr th:only-of-type {\n",
              "        vertical-align: middle;\n",
              "    }\n",
              "\n",
              "    .dataframe tbody tr th {\n",
              "        vertical-align: top;\n",
              "    }\n",
              "\n",
              "    .dataframe thead th {\n",
              "        text-align: right;\n",
              "    }\n",
              "</style>\n",
              "<table border=\"1\" class=\"dataframe\">\n",
              "  <thead>\n",
              "    <tr style=\"text-align: right;\">\n",
              "      <th></th>\n",
              "      <th>State</th>\n",
              "      <th>Year</th>\n",
              "      <th>Type_code</th>\n",
              "      <th>Type</th>\n",
              "      <th>Gender</th>\n",
              "      <th>Age_group</th>\n",
              "      <th>Total</th>\n",
              "    </tr>\n",
              "  </thead>\n",
              "  <tbody>\n",
              "    <tr>\n",
              "      <th>260</th>\n",
              "      <td>A &amp; N Islands</td>\n",
              "      <td>2001</td>\n",
              "      <td>Education_Status</td>\n",
              "      <td>Diploma</td>\n",
              "      <td>Female</td>\n",
              "      <td>0-100+</td>\n",
              "      <td>0</td>\n",
              "    </tr>\n",
              "    <tr>\n",
              "      <th>261</th>\n",
              "      <td>A &amp; N Islands</td>\n",
              "      <td>2001</td>\n",
              "      <td>Education_Status</td>\n",
              "      <td>No Education</td>\n",
              "      <td>Female</td>\n",
              "      <td>0-100+</td>\n",
              "      <td>4</td>\n",
              "    </tr>\n",
              "    <tr>\n",
              "      <th>262</th>\n",
              "      <td>A &amp; N Islands</td>\n",
              "      <td>2001</td>\n",
              "      <td>Education_Status</td>\n",
              "      <td>Post Graduate and Above</td>\n",
              "      <td>Female</td>\n",
              "      <td>0-100+</td>\n",
              "      <td>0</td>\n",
              "    </tr>\n",
              "    <tr>\n",
              "      <th>263</th>\n",
              "      <td>A &amp; N Islands</td>\n",
              "      <td>2001</td>\n",
              "      <td>Education_Status</td>\n",
              "      <td>Middle</td>\n",
              "      <td>Female</td>\n",
              "      <td>0-100+</td>\n",
              "      <td>33</td>\n",
              "    </tr>\n",
              "    <tr>\n",
              "      <th>264</th>\n",
              "      <td>A &amp; N Islands</td>\n",
              "      <td>2001</td>\n",
              "      <td>Education_Status</td>\n",
              "      <td>Graduate</td>\n",
              "      <td>Female</td>\n",
              "      <td>0-100+</td>\n",
              "      <td>0</td>\n",
              "    </tr>\n",
              "    <tr>\n",
              "      <th>...</th>\n",
              "      <td>...</td>\n",
              "      <td>...</td>\n",
              "      <td>...</td>\n",
              "      <td>...</td>\n",
              "      <td>...</td>\n",
              "      <td>...</td>\n",
              "      <td>...</td>\n",
              "    </tr>\n",
              "    <tr>\n",
              "      <th>237234</th>\n",
              "      <td>West Bengal</td>\n",
              "      <td>2012</td>\n",
              "      <td>Education_Status</td>\n",
              "      <td>Primary</td>\n",
              "      <td>Male</td>\n",
              "      <td>0-100+</td>\n",
              "      <td>2983</td>\n",
              "    </tr>\n",
              "    <tr>\n",
              "      <th>237235</th>\n",
              "      <td>West Bengal</td>\n",
              "      <td>2012</td>\n",
              "      <td>Education_Status</td>\n",
              "      <td>No Education</td>\n",
              "      <td>Male</td>\n",
              "      <td>0-100+</td>\n",
              "      <td>1096</td>\n",
              "    </tr>\n",
              "    <tr>\n",
              "      <th>237236</th>\n",
              "      <td>West Bengal</td>\n",
              "      <td>2012</td>\n",
              "      <td>Education_Status</td>\n",
              "      <td>Middle</td>\n",
              "      <td>Male</td>\n",
              "      <td>0-100+</td>\n",
              "      <td>2467</td>\n",
              "    </tr>\n",
              "    <tr>\n",
              "      <th>237237</th>\n",
              "      <td>West Bengal</td>\n",
              "      <td>2012</td>\n",
              "      <td>Education_Status</td>\n",
              "      <td>Graduate</td>\n",
              "      <td>Male</td>\n",
              "      <td>0-100+</td>\n",
              "      <td>242</td>\n",
              "    </tr>\n",
              "    <tr>\n",
              "      <th>237238</th>\n",
              "      <td>West Bengal</td>\n",
              "      <td>2012</td>\n",
              "      <td>Education_Status</td>\n",
              "      <td>Matriculate/Secondary</td>\n",
              "      <td>Male</td>\n",
              "      <td>0-100+</td>\n",
              "      <td>1260</td>\n",
              "    </tr>\n",
              "  </tbody>\n",
              "</table>\n",
              "<p>7296 rows × 7 columns</p>\n",
              "</div>\n",
              "      <button class=\"colab-df-convert\" onclick=\"convertToInteractive('df-144a06da-4913-4dc9-a801-60431b18bac0')\"\n",
              "              title=\"Convert this dataframe to an interactive table.\"\n",
              "              style=\"display:none;\">\n",
              "        \n",
              "  <svg xmlns=\"http://www.w3.org/2000/svg\" height=\"24px\"viewBox=\"0 0 24 24\"\n",
              "       width=\"24px\">\n",
              "    <path d=\"M0 0h24v24H0V0z\" fill=\"none\"/>\n",
              "    <path d=\"M18.56 5.44l.94 2.06.94-2.06 2.06-.94-2.06-.94-.94-2.06-.94 2.06-2.06.94zm-11 1L8.5 8.5l.94-2.06 2.06-.94-2.06-.94L8.5 2.5l-.94 2.06-2.06.94zm10 10l.94 2.06.94-2.06 2.06-.94-2.06-.94-.94-2.06-.94 2.06-2.06.94z\"/><path d=\"M17.41 7.96l-1.37-1.37c-.4-.4-.92-.59-1.43-.59-.52 0-1.04.2-1.43.59L10.3 9.45l-7.72 7.72c-.78.78-.78 2.05 0 2.83L4 21.41c.39.39.9.59 1.41.59.51 0 1.02-.2 1.41-.59l7.78-7.78 2.81-2.81c.8-.78.8-2.07 0-2.86zM5.41 20L4 18.59l7.72-7.72 1.47 1.35L5.41 20z\"/>\n",
              "  </svg>\n",
              "      </button>\n",
              "      \n",
              "  <style>\n",
              "    .colab-df-container {\n",
              "      display:flex;\n",
              "      flex-wrap:wrap;\n",
              "      gap: 12px;\n",
              "    }\n",
              "\n",
              "    .colab-df-convert {\n",
              "      background-color: #E8F0FE;\n",
              "      border: none;\n",
              "      border-radius: 50%;\n",
              "      cursor: pointer;\n",
              "      display: none;\n",
              "      fill: #1967D2;\n",
              "      height: 32px;\n",
              "      padding: 0 0 0 0;\n",
              "      width: 32px;\n",
              "    }\n",
              "\n",
              "    .colab-df-convert:hover {\n",
              "      background-color: #E2EBFA;\n",
              "      box-shadow: 0px 1px 2px rgba(60, 64, 67, 0.3), 0px 1px 3px 1px rgba(60, 64, 67, 0.15);\n",
              "      fill: #174EA6;\n",
              "    }\n",
              "\n",
              "    [theme=dark] .colab-df-convert {\n",
              "      background-color: #3B4455;\n",
              "      fill: #D2E3FC;\n",
              "    }\n",
              "\n",
              "    [theme=dark] .colab-df-convert:hover {\n",
              "      background-color: #434B5C;\n",
              "      box-shadow: 0px 1px 3px 1px rgba(0, 0, 0, 0.15);\n",
              "      filter: drop-shadow(0px 1px 2px rgba(0, 0, 0, 0.3));\n",
              "      fill: #FFFFFF;\n",
              "    }\n",
              "  </style>\n",
              "\n",
              "      <script>\n",
              "        const buttonEl =\n",
              "          document.querySelector('#df-144a06da-4913-4dc9-a801-60431b18bac0 button.colab-df-convert');\n",
              "        buttonEl.style.display =\n",
              "          google.colab.kernel.accessAllowed ? 'block' : 'none';\n",
              "\n",
              "        async function convertToInteractive(key) {\n",
              "          const element = document.querySelector('#df-144a06da-4913-4dc9-a801-60431b18bac0');\n",
              "          const dataTable =\n",
              "            await google.colab.kernel.invokeFunction('convertToInteractive',\n",
              "                                                     [key], {});\n",
              "          if (!dataTable) return;\n",
              "\n",
              "          const docLinkHtml = 'Like what you see? Visit the ' +\n",
              "            '<a target=\"_blank\" href=https://colab.research.google.com/notebooks/data_table.ipynb>data table notebook</a>'\n",
              "            + ' to learn more about interactive tables.';\n",
              "          element.innerHTML = '';\n",
              "          dataTable['output_type'] = 'display_data';\n",
              "          await google.colab.output.renderOutput(dataTable, element);\n",
              "          const docLink = document.createElement('div');\n",
              "          docLink.innerHTML = docLinkHtml;\n",
              "          element.appendChild(docLink);\n",
              "        }\n",
              "      </script>\n",
              "    </div>\n",
              "  </div>\n",
              "  "
            ],
            "text/plain": [
              "                State  Year         Type_code  ...  Gender Age_group Total\n",
              "260     A & N Islands  2001  Education_Status  ...  Female    0-100+     0\n",
              "261     A & N Islands  2001  Education_Status  ...  Female    0-100+     4\n",
              "262     A & N Islands  2001  Education_Status  ...  Female    0-100+     0\n",
              "263     A & N Islands  2001  Education_Status  ...  Female    0-100+    33\n",
              "264     A & N Islands  2001  Education_Status  ...  Female    0-100+     0\n",
              "...               ...   ...               ...  ...     ...       ...   ...\n",
              "237234    West Bengal  2012  Education_Status  ...    Male    0-100+  2983\n",
              "237235    West Bengal  2012  Education_Status  ...    Male    0-100+  1096\n",
              "237236    West Bengal  2012  Education_Status  ...    Male    0-100+  2467\n",
              "237237    West Bengal  2012  Education_Status  ...    Male    0-100+   242\n",
              "237238    West Bengal  2012  Education_Status  ...    Male    0-100+  1260\n",
              "\n",
              "[7296 rows x 7 columns]"
            ]
          },
          "metadata": {},
          "execution_count": 12
        }
      ]
    },
    {
      "cell_type": "code",
      "source": [
        "df_education2= pd.DataFrame(df_education.groupby(['Type'])['Total'].sum().reset_index())\n",
        "df_education2.sort_values(by = ['Total'], ascending = False, inplace = True)\n",
        "plt.figure(figsize=(10,8))\n",
        "sns.barplot(df_education2['Type'], y = df_education2['Total'], data = df_education2, palette = 'Set2')\n",
        "plt.title('Education Trends among suicide victims', fontsize = 20)\n",
        "plt.xlabel('Education Status')\n",
        "plt.xticks(rotation =90)\n",
        "plt.ylabel('suicide_count')\n",
        "plt.show()"
      ],
      "metadata": {
        "id": "bkkNyzLOQS1t",
        "colab": {
          "base_uri": "https://localhost:8080/",
          "height": 768
        },
        "outputId": "7228bd55-2f6d-45f4-db8c-e1eda493cdee"
      },
      "execution_count": null,
      "outputs": [
        {
          "output_type": "stream",
          "name": "stderr",
          "text": [
            "/usr/local/lib/python3.7/dist-packages/seaborn/_decorators.py:43: FutureWarning: Pass the following variable as a keyword arg: x. From version 0.12, the only valid positional argument will be `data`, and passing other arguments without an explicit keyword will result in an error or misinterpretation.\n",
            "  FutureWarning\n"
          ]
        },
        {
          "output_type": "display_data",
          "data": {
            "image/png": "[encoded data removed]",
            "text/plain": [
              "<Figure size 720x576 with 1 Axes>"
            ]
          },
          "metadata": {
            "needs_background": "light"
          }
        }
      ]
    },
    {
      "cell_type": "markdown",
      "source": [
        "Encoding categorical data"
      ],
      "metadata": {
        "id": "CEUHWZnZRGzv"
      }
    },
    {
      "cell_type": "code",
      "source": [
        "from sklearn.preprocessing import LabelEncoder\n",
        "le = LabelEncoder()\n",
        "data['Gender'] = le.fit_transform(data['Gender'])\n",
        "data['Age_group'] = le.fit_transform(data['Age_group'])\n",
        "data['Type'] = le.fit_transform(data['Type'])\n",
        "data['Type_code'] = le.fit_transform(data['Type_code'])\n",
        "data['State'] = le.fit_transform(data['State'])"
      ],
      "metadata": {
        "id": "U9yGkapqJMUG"
      },
      "execution_count": null,
      "outputs": []
    },
    {
      "cell_type": "code",
      "source": [
        "x=data.drop(['Total'], axis = 1)\n",
        "y=data['Total']\n",
        "\n",
        "print(x.shape)\n",
        "print(y.shape)"
      ],
      "metadata": {
        "id": "Fb-E6vOKJMWn",
        "colab": {
          "base_uri": "https://localhost:8080/"
        },
        "outputId": "14acfaa5-e63f-40c1-a37d-05bcedb8411b"
      },
      "execution_count": null,
      "outputs": [
        {
          "output_type": "stream",
          "name": "stdout",
          "text": [
            "(237519, 6)\n",
            "(237519,)\n"
          ]
        }
      ]
    },
    {
      "cell_type": "markdown",
      "source": [
        "Splitting the dataset into the Training set and Test set"
      ],
      "metadata": {
        "id": "rkJe4OYsRkf0"
      }
    },
    {
      "cell_type": "code",
      "source": [
        "from sklearn.model_selection import train_test_split\n",
        "x_train, x_test, y_train, y_test = train_test_split(x, y, test_size = 0.25, random_state = 45)\n",
        "\n",
        "print(x_train.shape)\n",
        "print(y_train.shape)\n",
        "print(x_test.shape)\n",
        "print(y_test.shape)"
      ],
      "metadata": {
        "id": "LUMg17A7JRKO",
        "colab": {
          "base_uri": "https://localhost:8080/"
        },
        "outputId": "2c91e6f8-f4bb-4db5-fdd0-2db70b2d9cb4"
      },
      "execution_count": null,
      "outputs": [
        {
          "output_type": "stream",
          "name": "stdout",
          "text": [
            "(178139, 6)\n",
            "(178139,)\n",
            "(59380, 6)\n",
            "(59380,)\n"
          ]
        }
      ]
    },
    {
      "cell_type": "markdown",
      "source": [
        "Feature Scaling"
      ],
      "metadata": {
        "id": "MkfWZ9BgRpI6"
      }
    },
    {
      "cell_type": "code",
      "source": [
        "from sklearn.preprocessing import MinMaxScaler\n",
        "mm = MinMaxScaler()\n",
        "x_train = mm.fit_transform(x_train)\n",
        "x_test = mm.transform(x_test)"
      ],
      "metadata": {
        "id": "uvcwSt3VJS_X"
      },
      "execution_count": null,
      "outputs": []
    },
    {
      "cell_type": "markdown",
      "source": [
        "Storing results"
      ],
      "metadata": {
        "id": "7OkBWRqT9Y4O"
      }
    },
    {
      "cell_type": "code",
      "source": [
        "ML_Model = []\n",
        "mse_test = []\n",
        "mae_test = []\n",
        "rmse_test = []\n",
        "r2_test = []\n",
        "\n",
        "def storeResults(model, a,b,c,d):\n",
        "    ML_Model.append(model)\n",
        "    mae_test.append(round(a, 3))\n",
        "    mse_test.append(round(b, 3))\n",
        "    rmse_test.append(round(c, 3))\n",
        "    r2_test.append(round(d, 3))"
      ],
      "metadata": {
        "id": "OoErGVXO9a9o"
      },
      "execution_count": null,
      "outputs": []
    },
    {
      "cell_type": "markdown",
      "source": [
        "Linear Regression"
      ],
      "metadata": {
        "id": "Cnmh0U_NRs-N"
      }
    },
    {
      "cell_type": "code",
      "source": [
        "from sklearn.linear_model import LinearRegression\n",
        "model = LinearRegression()\n",
        "model.fit(x_train, y_train)\n",
        "y_pred = model.predict(x_test)"
      ],
      "metadata": {
        "id": "90Ob4BvFJTnZ"
      },
      "execution_count": null,
      "outputs": []
    },
    {
      "cell_type": "markdown",
      "source": [
        "Performance Measures for linear Regression"
      ],
      "metadata": {
        "id": "-eSegI3GRwVb"
      }
    },
    {
      "cell_type": "code",
      "source": [
        "from sklearn.metrics import mean_absolute_error,mean_squared_error,r2_score\n",
        "print(\"Mean Absolute Error : \",mean_absolute_error(y_test,y_pred))\n",
        "print(\"Mean Squared Error : \",mean_squared_error(y_test,y_pred))\n",
        "print('Root Mean Square Error : ',np.sqrt(mean_squared_error(y_test,y_pred)))\n",
        "print(\"R2 score : \",r2_score(y_test,y_pred))"
      ],
      "metadata": {
        "id": "MYutmSv_OzY0",
        "colab": {
          "base_uri": "https://localhost:8080/"
        },
        "outputId": "06f3766d-3d71-4021-f6fb-3f3a2f8b64d4"
      },
      "execution_count": null,
      "outputs": [
        {
          "output_type": "stream",
          "name": "stdout",
          "text": [
            "Mean Absolute Error :  115.23910126095674\n",
            "Mean Squared Error :  543503.9845864476\n",
            "Root Mean Square Error :  737.2272272416745\n",
            "R2 score :  0.012351316781467614\n"
          ]
        }
      ]
    },
    {
      "cell_type": "code",
      "source": [
        "storeResults('Linear Regression',mean_absolute_error(y_test,y_pred), mean_squared_error(y_test,y_pred),np.sqrt(mean_squared_error(y_test,y_pred)),r2_score(y_test,y_pred))"
      ],
      "metadata": {
        "id": "2MjjeC3G9zMu"
      },
      "execution_count": null,
      "outputs": []
    },
    {
      "cell_type": "markdown",
      "source": [
        "Random Forest Regressor"
      ],
      "metadata": {
        "id": "JcYMHrUBRvzC"
      }
    },
    {
      "cell_type": "code",
      "source": [
        "from sklearn.ensemble import RandomForestRegressor\n",
        "model1 = RandomForestRegressor()\n",
        "model1.fit(x_train, y_train)\n",
        "y_pred = model1.predict(x_test)"
      ],
      "metadata": {
        "id": "wBSz8OlSJZCI"
      },
      "execution_count": null,
      "outputs": []
    },
    {
      "cell_type": "markdown",
      "source": [
        "Accuracy"
      ],
      "metadata": {
        "id": "GJXfejQY93mI"
      }
    },
    {
      "cell_type": "code",
      "source": [
        "acc_train_forest =  model1.score(x_train, y_train)\n",
        "acc_test_forest =  model1.score(x_test, y_test)\n",
        "print(acc_train_forest)\n",
        "print(acc_test_forest)\n"
      ],
      "metadata": {
        "colab": {
          "base_uri": "https://localhost:8080/"
        },
        "id": "ZsMu5kuv93R-",
        "outputId": "17aef6a9-070d-44c4-e6ea-f9b4206c88bb"
      },
      "execution_count": null,
      "outputs": [
        {
          "output_type": "stream",
          "name": "stdout",
          "text": [
            "0.9996784030831165\n",
            "0.9980893170897632\n"
          ]
        }
      ]
    },
    {
      "cell_type": "markdown",
      "source": [
        "Performance Measures for random forest regressor"
      ],
      "metadata": {
        "id": "VuVbtj9SR4vY"
      }
    },
    {
      "cell_type": "code",
      "source": [
        "from sklearn.metrics import mean_absolute_error,mean_squared_error,r2_score\n",
        "print(\"Mean Absolute Error : \",mean_absolute_error(y_test,y_pred))\n",
        "print(\"Mean Squared Error : \",mean_squared_error(y_test,y_pred))\n",
        "print('Root Mean Square Error : ',np.sqrt(mean_squared_error(y_test,y_pred)))\n",
        "print(\"R2 score : \",r2_score(y_test,y_pred))"
      ],
      "metadata": {
        "id": "kof7UHjWOsyv",
        "colab": {
          "base_uri": "https://localhost:8080/"
        },
        "outputId": "93821aca-7e0a-49d8-9c71-7b7fb7a4f41d"
      },
      "execution_count": null,
      "outputs": [
        {
          "output_type": "stream",
          "name": "stdout",
          "text": [
            "Mean Absolute Error :  7.015797736343127\n",
            "Mean Squared Error :  1051.4505741158875\n",
            "Root Mean Square Error :  32.42607861144926\n",
            "R2 score :  0.9980893170897632\n"
          ]
        }
      ]
    },
    {
      "cell_type": "code",
      "source": [
        "storeResults('Random Forest Regressor',mean_absolute_error(y_test,y_pred), mean_squared_error(y_test,y_pred),np.sqrt(mean_squared_error(y_test,y_pred)),r2_score(y_test,y_pred))"
      ],
      "metadata": {
        "id": "jgSKYewz-Kvv"
      },
      "execution_count": null,
      "outputs": []
    },
    {
      "cell_type": "code",
      "source": [
        "plt.scatter(y_test, y_pred)"
      ],
      "metadata": {
        "id": "WVc-ilixJcIL",
        "colab": {
          "base_uri": "https://localhost:8080/",
          "height": 282
        },
        "outputId": "7c640471-de11-4a87-d203-bf5d5608ca14"
      },
      "execution_count": null,
      "outputs": [
        {
          "output_type": "execute_result",
          "data": {
            "text/plain": [
              "<matplotlib.collections.PathCollection at 0x7fb60233be50>"
            ]
          },
          "metadata": {},
          "execution_count": 26
        },
        {
          "output_type": "display_data",
          "data": {
            "image/png": "[encoded data removed]",
            "text/plain": [
              "<Figure size 432x288 with 1 Axes>"
            ]
          },
          "metadata": {
            "needs_background": "light"
          }
        }
      ]
    },
    {
      "cell_type": "markdown",
      "source": [
        "Polynomial Regression"
      ],
      "metadata": {
        "id": "IivmzdeBR-ty"
      }
    },
    {
      "cell_type": "code",
      "source": [
        "from sklearn.preprocessing import PolynomialFeatures\n",
        "poly_reg=PolynomialFeatures(degree=4,include_bias=False)\n",
        "x_train_trans=poly_reg.fit_transform(x_train)\n",
        "x_test_trans=poly_reg.fit_transform(x_test)"
      ],
      "metadata": {
        "id": "eCc6a3qQNy10"
      },
      "execution_count": null,
      "outputs": []
    },
    {
      "cell_type": "code",
      "source": [
        "lin_reg_2=LinearRegression()\n",
        "lin_reg_2.fit(x_train_trans,y_train)"
      ],
      "metadata": {
        "id": "t8AWovKdN2r_",
        "colab": {
          "base_uri": "https://localhost:8080/"
        },
        "outputId": "824e1705-e450-4dc8-99e6-e2d914568a94"
      },
      "execution_count": null,
      "outputs": [
        {
          "output_type": "execute_result",
          "data": {
            "text/plain": [
              "LinearRegression()"
            ]
          },
          "metadata": {},
          "execution_count": 28
        }
      ]
    },
    {
      "cell_type": "code",
      "source": [
        "y_pred=lin_reg_2.predict(x_test_trans)\n",
        "y_pred"
      ],
      "metadata": {
        "id": "pVKfwZsfOh76",
        "colab": {
          "base_uri": "https://localhost:8080/"
        },
        "outputId": "5994fe4b-3e3b-4a3e-c9bb-c50c804c3f18"
      },
      "execution_count": null,
      "outputs": [
        {
          "output_type": "execute_result",
          "data": {
            "text/plain": [
              "array([   7.7436195 ,  316.411017  ,   34.50719969, ...,   44.48959772,\n",
              "       1040.69522917,   26.11513444])"
            ]
          },
          "metadata": {},
          "execution_count": 29
        }
      ]
    },
    {
      "cell_type": "markdown",
      "source": [
        "Performance Measures for Polynomial Regresssion"
      ],
      "metadata": {
        "id": "slRdPdhqSCOz"
      }
    },
    {
      "cell_type": "code",
      "source": [
        "from sklearn.metrics import mean_absolute_error,mean_squared_error,r2_score\n",
        "print(\"Mean Absolute Error : \",mean_absolute_error(y_test,y_pred))\n",
        "print(\"Mean Squared Error : \",mean_squared_error(y_test,y_pred))\n",
        "print('Root Mean Square Error : ',np.sqrt(mean_squared_error(y_test,y_pred)))\n",
        "print(\"R2 score : \",r2_score(y_test,y_pred))"
      ],
      "metadata": {
        "id": "huOT7N2iN7JM",
        "colab": {
          "base_uri": "https://localhost:8080/"
        },
        "outputId": "158e1b87-b036-4dff-9789-15544d043a1e"
      },
      "execution_count": null,
      "outputs": [
        {
          "output_type": "stream",
          "name": "stdout",
          "text": [
            "Mean Absolute Error :  119.31914301452927\n",
            "Mean Squared Error :  491587.1283917801\n",
            "Root Mean Square Error :  701.132746626329\n",
            "R2 score :  0.10669398235828931\n"
          ]
        }
      ]
    },
    {
      "cell_type": "code",
      "source": [
        "storeResults('Polynomial Regression',mean_absolute_error(y_test,y_pred), mean_squared_error(y_test,y_pred),np.sqrt(mean_squared_error(y_test,y_pred)),r2_score(y_test,y_pred))"
      ],
      "metadata": {
        "id": "igp_JHNT-Tpj"
      },
      "execution_count": null,
      "outputs": []
    },
    {
      "cell_type": "markdown",
      "source": [
        "Decison Tree Regressor"
      ],
      "metadata": {
        "id": "Oxy9ItVmOSvq"
      }
    },
    {
      "cell_type": "code",
      "source": [
        "from sklearn.tree import DecisionTreeRegressor\n",
        "regressor=DecisionTreeRegressor()\n",
        "regressor.fit(x_train,y_train)\n",
        "y_pred_test=regressor.predict(x_test)\n",
        "y_pred_train=regressor.predict(x_train)"
      ],
      "metadata": {
        "id": "Y2hgdU-oOSKW"
      },
      "execution_count": null,
      "outputs": []
    },
    {
      "cell_type": "markdown",
      "source": [
        "Score"
      ],
      "metadata": {
        "id": "ad6HkHSi6pdV"
      }
    },
    {
      "cell_type": "code",
      "source": [
        "acc_train_tree = regressor.score(x_train, y_train)\n",
        "acc_test_tree = regressor.score(x_test, y_test)\n",
        "print(acc_train_tree)\n",
        "print(acc_test_tree)"
      ],
      "metadata": {
        "colab": {
          "base_uri": "https://localhost:8080/"
        },
        "id": "XIujI8Jcw0mR",
        "outputId": "9780d601-7f05-49df-ee62-f7d7db950c7f"
      },
      "execution_count": null,
      "outputs": [
        {
          "output_type": "stream",
          "name": "stdout",
          "text": [
            "0.999898049433034\n",
            "0.9975491560838836\n"
          ]
        }
      ]
    },
    {
      "cell_type": "code",
      "source": [
        "from sklearn.metrics import mean_absolute_error,mean_squared_error,r2_score\n",
        "print(\"Mean Absolute Error : \",mean_absolute_error(y_test,y_pred_test))\n",
        "print(\"Mean Squared Error : \",mean_squared_error(y_test,y_pred_test))\n",
        "print('Root Mean Square Error : ',np.sqrt(mean_squared_error(y_test,y_pred_test)))\n",
        "print(\"R2 score : \",r2_score(y_test,y_pred_test))"
      ],
      "metadata": {
        "id": "u9BfedagO_1b",
        "colab": {
          "base_uri": "https://localhost:8080/"
        },
        "outputId": "92438447-06b6-4e45-d2b7-98ad204ad008"
      },
      "execution_count": null,
      "outputs": [
        {
          "output_type": "stream",
          "name": "stdout",
          "text": [
            "Mean Absolute Error :  7.816958571909734\n",
            "Mean Squared Error :  1348.7016756483665\n",
            "Root Mean Square Error :  36.724673935221894\n",
            "R2 score :  0.9975491560838836\n"
          ]
        }
      ]
    },
    {
      "cell_type": "code",
      "source": [
        "storeResults('Decision tree regressor',mean_absolute_error(y_test,y_pred_test),mean_squared_error(y_test,y_pred_test),np.sqrt(mean_squared_error(y_test,y_pred_test)),r2_score(y_test,y_pred_test))"
      ],
      "metadata": {
        "id": "-z96HKMN-aDL"
      },
      "execution_count": null,
      "outputs": []
    },
    {
      "cell_type": "code",
      "source": [
        "training_accuracy = []\n",
        "test_accuracy = []\n",
        "depth = range(1, 31)\n",
        "for n in depth:\n",
        "    tree = DecisionTreeRegressor(max_depth=n)\n",
        "    tree.fit(x_train, y_train)\n",
        "    training_accuracy.append(tree.score(x_train, y_train))\n",
        "    test_accuracy.append(tree.score(x_test, y_test))\n",
        "\n",
        "plt.plot(depth, training_accuracy, label=\"training accuracy\")\n",
        "plt.plot(depth, test_accuracy, label=\"test accuracy\")\n",
        "plt.ylabel(\"Accuracy\")  \n",
        "plt.xlabel(\"max_depth\")\n",
        "plt.legend()"
      ],
      "metadata": {
        "colab": {
          "base_uri": "https://localhost:8080/",
          "height": 298
        },
        "id": "Qh6omwxW1AEz",
        "outputId": "da866d78-5b24-4179-848e-af1a58e47404"
      },
      "execution_count": null,
      "outputs": [
        {
          "output_type": "execute_result",
          "data": {
            "text/plain": [
              "<matplotlib.legend.Legend at 0x7fb6022db610>"
            ]
          },
          "metadata": {},
          "execution_count": 36
        },
        {
          "output_type": "display_data",
          "data": {
            "image/png": "[encoded data removed]",
            "text/plain": [
              "<Figure size 432x288 with 1 Axes>"
            ]
          },
          "metadata": {
            "needs_background": "light"
          }
        }
      ]
    },
    {
      "cell_type": "markdown",
      "source": [
        "Comparing the models"
      ],
      "metadata": {
        "id": "ndQscr3Y-bvY"
      }
    },
    {
      "cell_type": "code",
      "source": [
        "results = pd.DataFrame({ 'ML Model': ML_Model,    \n",
        "    'Mean Absolute Error ': mae_test,\n",
        "    'Mean Squared Error': mse_test,\n",
        "    'Root Mean Square Error': rmse_test,\n",
        "    'R2 score': r2_test})\n",
        "results"
      ],
      "metadata": {
        "colab": {
          "base_uri": "https://localhost:8080/",
          "height": 174
        },
        "id": "UHUuDB7t-bH-",
        "outputId": "0e58a7b9-0144-43c8-ba1d-d3080ec75362"
      },
      "execution_count": null,
      "outputs": [
        {
          "output_type": "execute_result",
          "data": {
            "text/html": [
              "\n",
              "  <div id=\"df-1bf1aa1e-81c3-4f5f-9af1-76bbc03c2407\">\n",
              "    <div class=\"colab-df-container\">\n",
              "      <div>\n",
              "<style scoped>\n",
              "    .dataframe tbody tr th:only-of-type {\n",
              "        vertical-align: middle;\n",
              "    }\n",
              "\n",
              "    .dataframe tbody tr th {\n",
              "        vertical-align: top;\n",
              "    }\n",
              "\n",
              "    .dataframe thead th {\n",
              "        text-align: right;\n",
              "    }\n",
              "</style>\n",
              "<table border=\"1\" class=\"dataframe\">\n",
              "  <thead>\n",
              "    <tr style=\"text-align: right;\">\n",
              "      <th></th>\n",
              "      <th>ML Model</th>\n",
              "      <th>Mean Absolute Error</th>\n",
              "      <th>Mean Squared Error</th>\n",
              "      <th>Root Mean Square Error</th>\n",
              "      <th>R2 score</th>\n",
              "    </tr>\n",
              "  </thead>\n",
              "  <tbody>\n",
              "    <tr>\n",
              "      <th>0</th>\n",
              "      <td>Linear Regression</td>\n",
              "      <td>115.239</td>\n",
              "      <td>543503.985</td>\n",
              "      <td>737.227</td>\n",
              "      <td>0.012</td>\n",
              "    </tr>\n",
              "    <tr>\n",
              "      <th>1</th>\n",
              "      <td>Random Forest Regressor</td>\n",
              "      <td>7.016</td>\n",
              "      <td>1051.451</td>\n",
              "      <td>32.426</td>\n",
              "      <td>0.998</td>\n",
              "    </tr>\n",
              "    <tr>\n",
              "      <th>2</th>\n",
              "      <td>Polynomial Regression</td>\n",
              "      <td>119.319</td>\n",
              "      <td>491587.128</td>\n",
              "      <td>701.133</td>\n",
              "      <td>0.107</td>\n",
              "    </tr>\n",
              "    <tr>\n",
              "      <th>3</th>\n",
              "      <td>Decision tree regressor</td>\n",
              "      <td>7.817</td>\n",
              "      <td>1348.702</td>\n",
              "      <td>36.725</td>\n",
              "      <td>0.998</td>\n",
              "    </tr>\n",
              "  </tbody>\n",
              "</table>\n",
              "</div>\n",
              "      <button class=\"colab-df-convert\" onclick=\"convertToInteractive('df-1bf1aa1e-81c3-4f5f-9af1-76bbc03c2407')\"\n",
              "              title=\"Convert this dataframe to an interactive table.\"\n",
              "              style=\"display:none;\">\n",
              "        \n",
              "  <svg xmlns=\"http://www.w3.org/2000/svg\" height=\"24px\"viewBox=\"0 0 24 24\"\n",
              "       width=\"24px\">\n",
              "    <path d=\"M0 0h24v24H0V0z\" fill=\"none\"/>\n",
              "    <path d=\"M18.56 5.44l.94 2.06.94-2.06 2.06-.94-2.06-.94-.94-2.06-.94 2.06-2.06.94zm-11 1L8.5 8.5l.94-2.06 2.06-.94-2.06-.94L8.5 2.5l-.94 2.06-2.06.94zm10 10l.94 2.06.94-2.06 2.06-.94-2.06-.94-.94-2.06-.94 2.06-2.06.94z\"/><path d=\"M17.41 7.96l-1.37-1.37c-.4-.4-.92-.59-1.43-.59-.52 0-1.04.2-1.43.59L10.3 9.45l-7.72 7.72c-.78.78-.78 2.05 0 2.83L4 21.41c.39.39.9.59 1.41.59.51 0 1.02-.2 1.41-.59l7.78-7.78 2.81-2.81c.8-.78.8-2.07 0-2.86zM5.41 20L4 18.59l7.72-7.72 1.47 1.35L5.41 20z\"/>\n",
              "  </svg>\n",
              "      </button>\n",
              "      \n",
              "  <style>\n",
              "    .colab-df-container {\n",
              "      display:flex;\n",
              "      flex-wrap:wrap;\n",
              "      gap: 12px;\n",
              "    }\n",
              "\n",
              "    .colab-df-convert {\n",
              "      background-color: #E8F0FE;\n",
              "      border: none;\n",
              "      border-radius: 50%;\n",
              "      cursor: pointer;\n",
              "      display: none;\n",
              "      fill: #1967D2;\n",
              "      height: 32px;\n",
              "      padding: 0 0 0 0;\n",
              "      width: 32px;\n",
              "    }\n",
              "\n",
              "    .colab-df-convert:hover {\n",
              "      background-color: #E2EBFA;\n",
              "      box-shadow: 0px 1px 2px rgba(60, 64, 67, 0.3), 0px 1px 3px 1px rgba(60, 64, 67, 0.15);\n",
              "      fill: #174EA6;\n",
              "    }\n",
              "\n",
              "    [theme=dark] .colab-df-convert {\n",
              "      background-color: #3B4455;\n",
              "      fill: #D2E3FC;\n",
              "    }\n",
              "\n",
              "    [theme=dark] .colab-df-convert:hover {\n",
              "      background-color: #434B5C;\n",
              "      box-shadow: 0px 1px 3px 1px rgba(0, 0, 0, 0.15);\n",
              "      filter: drop-shadow(0px 1px 2px rgba(0, 0, 0, 0.3));\n",
              "      fill: #FFFFFF;\n",
              "    }\n",
              "  </style>\n",
              "\n",
              "      <script>\n",
              "        const buttonEl =\n",
              "          document.querySelector('#df-1bf1aa1e-81c3-4f5f-9af1-76bbc03c2407 button.colab-df-convert');\n",
              "        buttonEl.style.display =\n",
              "          google.colab.kernel.accessAllowed ? 'block' : 'none';\n",
              "\n",
              "        async function convertToInteractive(key) {\n",
              "          const element = document.querySelector('#df-1bf1aa1e-81c3-4f5f-9af1-76bbc03c2407');\n",
              "          const dataTable =\n",
              "            await google.colab.kernel.invokeFunction('convertToInteractive',\n",
              "                                                     [key], {});\n",
              "          if (!dataTable) return;\n",
              "\n",
              "          const docLinkHtml = 'Like what you see? Visit the ' +\n",
              "            '<a target=\"_blank\" href=https://colab.research.google.com/notebooks/data_table.ipynb>data table notebook</a>'\n",
              "            + ' to learn more about interactive tables.';\n",
              "          element.innerHTML = '';\n",
              "          dataTable['output_type'] = 'display_data';\n",
              "          await google.colab.output.renderOutput(dataTable, element);\n",
              "          const docLink = document.createElement('div');\n",
              "          docLink.innerHTML = docLinkHtml;\n",
              "          element.appendChild(docLink);\n",
              "        }\n",
              "      </script>\n",
              "    </div>\n",
              "  </div>\n",
              "  "
            ],
            "text/plain": [
              "                  ML Model  ...  R2 score\n",
              "0        Linear Regression  ...     0.012\n",
              "1  Random Forest Regressor  ...     0.998\n",
              "2    Polynomial Regression  ...     0.107\n",
              "3  Decision tree regressor  ...     0.998\n",
              "\n",
              "[4 rows x 5 columns]"
            ]
          },
          "metadata": {},
          "execution_count": 37
        }
      ]
    }
  ]
}